{
 "cells": [
  {
   "cell_type": "markdown",
   "metadata": {},
   "source": [
    "### Import"
   ]
  },
  {
   "cell_type": "code",
   "execution_count": null,
   "metadata": {},
   "outputs": [],
   "source": [
    "import pandas as pd\n",
    "import numpy as np\n",
    "\n",
    "import matplotlib.pyplot as plt\n",
    "import matplotlib.cm as cm\n",
    "import numpy as np\n",
    "from sklearn.metrics import silhouette_samples, silhouette_score\n",
    "from sklearn.cluster import KMeans"
   ]
  },
  {
   "cell_type": "markdown",
   "metadata": {},
   "source": [
    "### Data Load"
   ]
  },
  {
   "cell_type": "code",
   "execution_count": 12,
   "metadata": {},
   "outputs": [],
   "source": [
    "train = pd.read_csv('./train.csv').drop(columns=['ID'])\n",
    "test = pd.read_csv('./test.csv').drop(columns=['ID'])"
   ]
  },
  {
   "cell_type": "markdown",
   "metadata": {},
   "source": [
    "### 0. 확정 전처리 "
   ]
  },
  {
   "cell_type": "code",
   "execution_count": 14,
   "metadata": {},
   "outputs": [],
   "source": [
    "df= train\n",
    "\n",
    "# '시술 당시 나이' 변수 수치형 변환\n",
    "age_mapping = {\n",
    "    '만18-34세': 1, '만35-37세': 2, '만38-39세': 3, '만40-42세': 4,\n",
    "    '만43-44세': 5, '만45-50세': 6, '알 수 없음': 7\n",
    "}\n",
    "df['시술 당시 나이'] = df['시술 당시 나이'].map(age_mapping)\n",
    "\n",
    "# '~횟수' 변수 수치형 변환\n",
    "count_features = [feat for feat in df.columns if '횟수' in feat]\n",
    "for feat in count_features:\n",
    "    df[feat] = df[feat].apply(lambda val: int(val[0]))  # n회/n회 이상 (str) -> n (int)\n",
    "\n",
    "# '정자, 난자 기증자 나이' 변수 수치형 변환\n",
    "for feat in ['난자 기증자 나이', '정자 기증자 나이']:\n",
    "    df[feat] = df[feat].apply(lambda val: int(val[1:3]) if val[0] == '만' else -1)\n",
    "\n",
    "# 배아 생성 주요 이유 다중 선택 변환 (더미 컬럼 생성)\n",
    "categories = ['현재 시술용', '배아 저장용', '기증용', '난자 저장용']\n",
    "for category in categories:\n",
    "    df[f'배아 이유_{category}'] = df['배아 생성 주요 이유'].apply(lambda x: 1 if pd.notna(x) and category in x else 0)\n",
    "\n",
    "# '출산 성공률' 파생변수 생성\n",
    "df['출산 성공률'] = df['총 출산 횟수'] / df['총 임신 횟수']\n",
    "\n",
    "# '임신 성공률' 파생변수 생성\n",
    "df['임신 성공률'] = df['총 임신 횟수'] / df['총 시술 횟수']\n",
    "\n",
    "# IVF / DI 개별 전처리\n",
    "ivf_df = df[df['시술 유형'] == 'IVF'].copy()\n",
    "di_df = df[df['시술 유형'] == 'DI'].copy()\n",
    "\n",
    "# DI인 경우 남성 주 ~ 부부 부 불임 원인 flip\n",
    "flip_features = ['남성 주 불임 원인', '남성 부 불임 원인', '여성 주 불임 원인',\n",
    "                 '여성 부 불임 원인', '부부 주 불임 원인', '부부 부 불임 원인', '불임 원인 - 정자 농도']\n",
    "for feat in flip_features:\n",
    "    di_df[feat] = di_df[feat].apply(lambda x: 1 - x)\n",
    "\n",
    "# 확정 결측치 처리\n",
    "missing_fill_features = ['PGS 시술 여부', 'PGD 시술 여부', '착상 전 유전 검사 사용 여부']\n",
    "for feat in missing_fill_features:\n",
    "    ivf_df[feat] = ivf_df[feat].fillna(0)\n",
    "\n",
    "# IVF와 DI 데이터 다시 결합\n",
    "df[df['시술 유형'] == 'IVF'] = ivf_df\n",
    "df[df['시술 유형'] == 'DI'] = di_df"
   ]
  },
  {
   "cell_type": "markdown",
   "metadata": {},
   "source": [
    "### 1. 시술 이전 정보 컬럼 선택 "
   ]
  },
  {
   "cell_type": "code",
   "execution_count": 15,
   "metadata": {},
   "outputs": [],
   "source": [
    "# 시술 이전 정보 칼럼만 선택\n",
    "features = [\n",
    "    '시술 당시 나이', \n",
    "    '임신 시도 또는 마지막 임신 경과 연수',\n",
    "    '남성 주 불임 원인', \n",
    "    '남성 부 불임 원인', \n",
    "    '여성 주 불임 원인',\n",
    "    '여성 부 불임 원인', \n",
    "    '부부 주 불임 원인', \n",
    "    '부부 부 불임 원인', \n",
    "    '불명확 불임 원인',\n",
    "    '불임 원인 - 난관 질환', \n",
    "    '불임 원인 - 남성 요인', \n",
    "    '불임 원인 - 배란 장애', \n",
    "    '불임 원인 - 여성 요인',\n",
    "    '불임 원인 - 자궁경부 문제', \n",
    "    '불임 원인 - 자궁내막증', \n",
    "    '불임 원인 - 정자 농도', \n",
    "    '불임 원인 - 정자 면역학적 요인',\n",
    "    '불임 원인 - 정자 운동성', \n",
    "    '불임 원인 - 정자 형태',  \n",
    "    '총 시술 횟수',\n",
    "    '클리닉 내 총 시술 횟수',\n",
    "    'IVF 시술 횟수',\n",
    "    'DI 시술 횟수',\n",
    "    '총 임신 횟수',\n",
    "    'IVF 임신 횟수',\n",
    "    'DI 임신 횟수',\n",
    "    '총 출산 횟수',\n",
    "    'IVF 출산 횟수',\n",
    "    'DI 출산 횟수'\n",
    "]\n",
    "\n",
    "df_clustering = df[features].copy()\n"
   ]
  },
  {
   "cell_type": "markdown",
   "metadata": {},
   "source": [
    "### 2. 결측치 처리 "
   ]
  },
  {
   "cell_type": "code",
   "execution_count": 16,
   "metadata": {},
   "outputs": [],
   "source": [
    "df_clustering= df_clustering.fillna(-1)"
   ]
  },
  {
   "cell_type": "markdown",
   "metadata": {},
   "source": [
    "'임신 시도 또는 마지막 임신 경과 연수'에서 나는 결측치 "
   ]
  },
  {
   "cell_type": "markdown",
   "metadata": {},
   "source": [
    "### 3. 최적 k 값 찾기 - 실루엣 계수 "
   ]
  },
  {
   "cell_type": "code",
   "execution_count": 17,
   "metadata": {},
   "outputs": [
    {
     "name": "stderr",
     "output_type": "stream",
     "text": [
      " 17%|█▋        | 1/6 [13:37<1:08:05, 817.17s/it]"
     ]
    },
    {
     "name": "stdout",
     "output_type": "stream",
     "text": [
      "클러스터 수: 2, 실루엣 계수: 0.4709\n"
     ]
    },
    {
     "name": "stderr",
     "output_type": "stream",
     "text": [
      " 33%|███▎      | 2/6 [26:56<53:47, 806.78s/it]  "
     ]
    },
    {
     "name": "stdout",
     "output_type": "stream",
     "text": [
      "클러스터 수: 3, 실루엣 계수: 0.4311\n"
     ]
    },
    {
     "name": "stderr",
     "output_type": "stream",
     "text": [
      " 50%|█████     | 3/6 [38:59<38:24, 768.32s/it]"
     ]
    },
    {
     "name": "stdout",
     "output_type": "stream",
     "text": [
      "클러스터 수: 4, 실루엣 계수: 0.3299\n"
     ]
    },
    {
     "name": "stderr",
     "output_type": "stream",
     "text": [
      " 67%|██████▋   | 4/6 [50:00<24:12, 726.01s/it]"
     ]
    },
    {
     "name": "stdout",
     "output_type": "stream",
     "text": [
      "클러스터 수: 5, 실루엣 계수: 0.2945\n"
     ]
    },
    {
     "name": "stderr",
     "output_type": "stream",
     "text": [
      " 83%|████████▎ | 5/6 [1:05:20<13:15, 795.97s/it]"
     ]
    },
    {
     "name": "stdout",
     "output_type": "stream",
     "text": [
      "클러스터 수: 6, 실루엣 계수: 0.2911\n"
     ]
    },
    {
     "name": "stderr",
     "output_type": "stream",
     "text": [
      "100%|██████████| 6/6 [1:15:31<00:00, 755.20s/it]"
     ]
    },
    {
     "name": "stdout",
     "output_type": "stream",
     "text": [
      "클러스터 수: 7, 실루엣 계수: 0.2662\n"
     ]
    },
    {
     "name": "stderr",
     "output_type": "stream",
     "text": [
      "\n"
     ]
    }
   ],
   "source": [
    "from tqdm import tqdm\n",
    "from sklearn.cluster import KMeans\n",
    "from sklearn.metrics import silhouette_score\n",
    "\n",
    "for n_clusters in tqdm(range(2, 8)): \n",
    "    kmeans = KMeans(n_clusters=n_clusters, random_state=42)\n",
    "    cluster_labels = kmeans.fit_predict(df_clustering)\n",
    "\n",
    "    score = silhouette_score(df_clustering, cluster_labels)\n",
    "    print(f\"클러스터 수: {n_clusters}, 실루엣 계수: {score:.4f}\")"
   ]
  },
  {
   "cell_type": "markdown",
   "metadata": {},
   "source": [
    "- 실루엣 계수 : 1에 가까울 수록 근처 군집과 멀리 떨어져 있음을, 0에 가까울수록 근처 군집과 가까움 ~ 보통 0.5 이상을 잘 분리됐다고 판단 \n",
    "- 제일 높은 게 클러스터 2개 - 0.4709 \n"
   ]
  },
  {
   "cell_type": "markdown",
   "metadata": {},
   "source": [
    "### 4. 실루엣 계수 시각화 "
   ]
  },
  {
   "cell_type": "code",
   "execution_count": null,
   "metadata": {},
   "outputs": [],
   "source": [
    "def plot_silhouette_comparison(X, k_range=(2, 7)):\n",
    "    fig, axes = plt.subplots(1, k_range[1] - k_range[0] + 1, figsize=(22, 5))\n",
    "\n",
    "    for idx, n_clusters in enumerate(range(k_range[0], k_range[1] + 1)):\n",
    "        ax = axes[idx] if isinstance(axes, np.ndarray) else axes\n",
    "        kmeans = KMeans(n_clusters=n_clusters, random_state=42)\n",
    "        cluster_labels = kmeans.fit_predict(X)\n",
    "\n",
    "        silhouette_avg = silhouette_score(X, cluster_labels)\n",
    "        sample_silhouette_values = silhouette_samples(X, cluster_labels)\n",
    "\n",
    "        y_lower = 10\n",
    "        for i in range(n_clusters):\n",
    "            ith_cluster_silhouette_values = sample_silhouette_values[cluster_labels == i]\n",
    "            ith_cluster_silhouette_values.sort()\n",
    "            size_cluster_i = ith_cluster_silhouette_values.shape[0]\n",
    "            y_upper = y_lower + size_cluster_i\n",
    "\n",
    "            color = cm.nipy_spectral(float(i) / n_clusters)\n",
    "            ax.fill_betweenx(np.arange(y_lower, y_upper),\n",
    "                             0, ith_cluster_silhouette_values,\n",
    "                             facecolor=color, edgecolor=color, alpha=0.7)\n",
    "            ax.text(-0.05, y_lower + 0.5 * size_cluster_i, str(i))\n",
    "            y_lower = y_upper + 10\n",
    "\n",
    "        ax.set_title(f\"Clusters: {n_clusters}\\nSilhouette: {silhouette_avg:.3f}\")\n",
    "        ax.axvline(x=silhouette_avg, color=\"red\", linestyle=\"--\")\n",
    "        ax.set_xlim([-0.1, 1])\n",
    "        ax.set_ylim([0, len(X) + (n_clusters + 1) * 10])\n",
    "        ax.set_yticks([])\n",
    "        ax.set_xlabel(\"Silhouette Coefficient\")\n",
    "\n",
    "    plt.tight_layout()\n",
    "    plt.show()\n"
   ]
  },
  {
   "cell_type": "code",
   "execution_count": 19,
   "metadata": {},
   "outputs": [
    {
     "data": {
      "image/png": "[encoded data removed]",
      "text/plain": [
       "<Figure size 2200x500 with 6 Axes>"
      ]
     },
     "metadata": {},
     "output_type": "display_data"
    }
   ],
   "source": [
    "plot_silhouette_comparison(df_clustering, k_range=(2, 7))"
   ]
  },
  {
   "cell_type": "markdown",
   "metadata": {},
   "source": [
    "### 5. 클러스터링 진행 "
   ]
  },
  {
   "cell_type": "markdown",
   "metadata": {},
   "source": [
    "일단 k = 2로 진행해봄.."
   ]
  },
  {
   "cell_type": "code",
   "execution_count": null,
   "metadata": {},
   "outputs": [],
   "source": [
    "# 최종 클러스터링 진행\n",
    "best_k = 2 # 최적의 k 값 \n",
    "kmeans_final = KMeans(n_clusters=best_k, random_state=42)\n",
    "cluster_labels = kmeans_final.fit_predict(df_clustering)\n",
    "\n",
    "# 결과를 원본 데이터프레임에 붙이기\n",
    "df_clustering[\"cluster\"] = cluster_labels\n"
   ]
  },
  {
   "cell_type": "code",
   "execution_count": null,
   "metadata": {},
   "outputs": [
    {
     "data": {
      "text/plain": [
       "cluster\n",
       "0     60067\n",
       "1    196284\n",
       "Name: count, dtype: int64"
      ]
     },
     "metadata": {},
     "output_type": "display_data"
    }
   ],
   "source": [
    "df_clustering['cluster'].value_counts().sort_index()"
   ]
  },
  {
   "cell_type": "code",
   "execution_count": null,
   "metadata": {},
   "outputs": [
    {
     "data": {
      "text/html": [
       "<div>\n",
       "<style scoped>\n",
       "    .dataframe tbody tr th:only-of-type {\n",
       "        vertical-align: middle;\n",
       "    }\n",
       "\n",
       "    .dataframe tbody tr th {\n",
       "        vertical-align: top;\n",
       "    }\n",
       "\n",
       "    .dataframe thead th {\n",
       "        text-align: right;\n",
       "    }\n",
       "</style>\n",
       "<table border=\"1\" class=\"dataframe\">\n",
       "  <thead>\n",
       "    <tr style=\"text-align: right;\">\n",
       "      <th>cluster</th>\n",
       "      <th>0</th>\n",
       "      <th>1</th>\n",
       "    </tr>\n",
       "  </thead>\n",
       "  <tbody>\n",
       "    <tr>\n",
       "      <th>시술 당시 나이</th>\n",
       "      <td>2.781511</td>\n",
       "      <td>2.155897</td>\n",
       "    </tr>\n",
       "    <tr>\n",
       "      <th>임신 시도 또는 마지막 임신 경과 연수</th>\n",
       "      <td>0.547206</td>\n",
       "      <td>-0.983188</td>\n",
       "    </tr>\n",
       "    <tr>\n",
       "      <th>남성 주 불임 원인</th>\n",
       "      <td>0.156758</td>\n",
       "      <td>0.018407</td>\n",
       "    </tr>\n",
       "    <tr>\n",
       "      <th>남성 부 불임 원인</th>\n",
       "      <td>0.099056</td>\n",
       "      <td>0.017602</td>\n",
       "    </tr>\n",
       "    <tr>\n",
       "      <th>여성 주 불임 원인</th>\n",
       "      <td>0.160438</td>\n",
       "      <td>0.018942</td>\n",
       "    </tr>\n",
       "    <tr>\n",
       "      <th>여성 부 불임 원인</th>\n",
       "      <td>0.097841</td>\n",
       "      <td>0.017021</td>\n",
       "    </tr>\n",
       "    <tr>\n",
       "      <th>부부 주 불임 원인</th>\n",
       "      <td>0.171459</td>\n",
       "      <td>0.019029</td>\n",
       "    </tr>\n",
       "    <tr>\n",
       "      <th>부부 부 불임 원인</th>\n",
       "      <td>0.084522</td>\n",
       "      <td>0.016960</td>\n",
       "    </tr>\n",
       "    <tr>\n",
       "      <th>불명확 불임 원인</th>\n",
       "      <td>0.226014</td>\n",
       "      <td>0.258294</td>\n",
       "    </tr>\n",
       "    <tr>\n",
       "      <th>불임 원인 - 난관 질환</th>\n",
       "      <td>0.137213</td>\n",
       "      <td>0.139161</td>\n",
       "    </tr>\n",
       "    <tr>\n",
       "      <th>불임 원인 - 남성 요인</th>\n",
       "      <td>0.392928</td>\n",
       "      <td>0.366123</td>\n",
       "    </tr>\n",
       "    <tr>\n",
       "      <th>불임 원인 - 배란 장애</th>\n",
       "      <td>0.113623</td>\n",
       "      <td>0.135523</td>\n",
       "    </tr>\n",
       "    <tr>\n",
       "      <th>불임 원인 - 여성 요인</th>\n",
       "      <td>0.000000</td>\n",
       "      <td>0.000000</td>\n",
       "    </tr>\n",
       "    <tr>\n",
       "      <th>불임 원인 - 자궁경부 문제</th>\n",
       "      <td>0.000166</td>\n",
       "      <td>0.000000</td>\n",
       "    </tr>\n",
       "    <tr>\n",
       "      <th>불임 원인 - 자궁내막증</th>\n",
       "      <td>0.055971</td>\n",
       "      <td>0.076114</td>\n",
       "    </tr>\n",
       "    <tr>\n",
       "      <th>불임 원인 - 정자 농도</th>\n",
       "      <td>0.056454</td>\n",
       "      <td>0.015783</td>\n",
       "    </tr>\n",
       "    <tr>\n",
       "      <th>불임 원인 - 정자 면역학적 요인</th>\n",
       "      <td>0.000017</td>\n",
       "      <td>0.000000</td>\n",
       "    </tr>\n",
       "    <tr>\n",
       "      <th>불임 원인 - 정자 운동성</th>\n",
       "      <td>0.001365</td>\n",
       "      <td>0.000076</td>\n",
       "    </tr>\n",
       "    <tr>\n",
       "      <th>불임 원인 - 정자 형태</th>\n",
       "      <td>0.002048</td>\n",
       "      <td>0.000102</td>\n",
       "    </tr>\n",
       "    <tr>\n",
       "      <th>총 시술 횟수</th>\n",
       "      <td>4.168295</td>\n",
       "      <td>0.752517</td>\n",
       "    </tr>\n",
       "    <tr>\n",
       "      <th>클리닉 내 총 시술 횟수</th>\n",
       "      <td>3.028402</td>\n",
       "      <td>0.553448</td>\n",
       "    </tr>\n",
       "    <tr>\n",
       "      <th>IVF 시술 횟수</th>\n",
       "      <td>3.724025</td>\n",
       "      <td>0.700240</td>\n",
       "    </tr>\n",
       "    <tr>\n",
       "      <th>DI 시술 횟수</th>\n",
       "      <td>0.539964</td>\n",
       "      <td>0.052276</td>\n",
       "    </tr>\n",
       "    <tr>\n",
       "      <th>총 임신 횟수</th>\n",
       "      <td>0.613798</td>\n",
       "      <td>0.112694</td>\n",
       "    </tr>\n",
       "    <tr>\n",
       "      <th>IVF 임신 횟수</th>\n",
       "      <td>0.573443</td>\n",
       "      <td>0.107008</td>\n",
       "    </tr>\n",
       "    <tr>\n",
       "      <th>DI 임신 횟수</th>\n",
       "      <td>0.040355</td>\n",
       "      <td>0.005686</td>\n",
       "    </tr>\n",
       "    <tr>\n",
       "      <th>총 출산 횟수</th>\n",
       "      <td>0.420397</td>\n",
       "      <td>0.077322</td>\n",
       "    </tr>\n",
       "    <tr>\n",
       "      <th>IVF 출산 횟수</th>\n",
       "      <td>0.391180</td>\n",
       "      <td>0.073164</td>\n",
       "    </tr>\n",
       "    <tr>\n",
       "      <th>DI 출산 횟수</th>\n",
       "      <td>0.029217</td>\n",
       "      <td>0.004157</td>\n",
       "    </tr>\n",
       "  </tbody>\n",
       "</table>\n",
       "</div>"
      ],
      "text/plain": [
       "cluster                       0         1\n",
       "시술 당시 나이               2.781511  2.155897\n",
       "임신 시도 또는 마지막 임신 경과 연수  0.547206 -0.983188\n",
       "남성 주 불임 원인             0.156758  0.018407\n",
       "남성 부 불임 원인             0.099056  0.017602\n",
       "여성 주 불임 원인             0.160438  0.018942\n",
       "여성 부 불임 원인             0.097841  0.017021\n",
       "부부 주 불임 원인             0.171459  0.019029\n",
       "부부 부 불임 원인             0.084522  0.016960\n",
       "불명확 불임 원인              0.226014  0.258294\n",
       "불임 원인 - 난관 질환          0.137213  0.139161\n",
       "불임 원인 - 남성 요인          0.392928  0.366123\n",
       "불임 원인 - 배란 장애          0.113623  0.135523\n",
       "불임 원인 - 여성 요인          0.000000  0.000000\n",
       "불임 원인 - 자궁경부 문제        0.000166  0.000000\n",
       "불임 원인 - 자궁내막증          0.055971  0.076114\n",
       "불임 원인 - 정자 농도          0.056454  0.015783\n",
       "불임 원인 - 정자 면역학적 요인     0.000017  0.000000\n",
       "불임 원인 - 정자 운동성         0.001365  0.000076\n",
       "불임 원인 - 정자 형태          0.002048  0.000102\n",
       "총 시술 횟수                4.168295  0.752517\n",
       "클리닉 내 총 시술 횟수          3.028402  0.553448\n",
       "IVF 시술 횟수              3.724025  0.700240\n",
       "DI 시술 횟수               0.539964  0.052276\n",
       "총 임신 횟수                0.613798  0.112694\n",
       "IVF 임신 횟수              0.573443  0.107008\n",
       "DI 임신 횟수               0.040355  0.005686\n",
       "총 출산 횟수                0.420397  0.077322\n",
       "IVF 출산 횟수              0.391180  0.073164\n",
       "DI 출산 횟수               0.029217  0.004157"
      ]
     },
     "metadata": {},
     "output_type": "display_data"
    }
   ],
   "source": [
    "df_clustering.groupby(\"cluster\").mean().T"
   ]
  }
 ],
 "metadata": {
  "kernelspec": {
   "display_name": "pytorch",
   "language": "python",
   "name": "python3"
  },
  "language_info": {
   "codemirror_mode": {
    "name": "ipython",
    "version": 3
   },
   "file_extension": ".py",
   "mimetype": "text/x-python",
   "name": "python",
   "nbconvert_exporter": "python",
   "pygments_lexer": "ipython3",
   "version": "3.11.9"
  }
 },
 "nbformat": 4,
 "nbformat_minor": 2
}
